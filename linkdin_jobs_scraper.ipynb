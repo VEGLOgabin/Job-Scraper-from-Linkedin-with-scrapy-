{
 "cells": [
  {
   "cell_type": "code",
   "execution_count": 1,
   "id": "ec65cb8c",
   "metadata": {},
   "outputs": [],
   "source": [
    "#Import Packages\n",
    "from selenium import webdriver\n",
    "import time\n",
    "import pandas as pd\n",
    "import os"
   ]
  },
  {
   "cell_type": "code",
   "execution_count": 2,
   "id": "87a51532",
   "metadata": {},
   "outputs": [],
   "source": [
    "#Import Packages\n",
    "\n",
    "from selenium.webdriver.support.select import Select\n",
    "from selenium.webdriver.support.ui import WebDriverWait\n",
    "from selenium.webdriver.common.by import By\n",
    "from selenium.webdriver.support import expected_conditions as EC"
   ]
  },
  {
   "cell_type": "code",
   "execution_count": 3,
   "id": "3deded82",
   "metadata": {},
   "outputs": [],
   "source": [
    "#Use this Url and change city or role accordingly\n",
    "\n",
    "url1='https://www.linkedin.com/jobs/search?keywords=Marketing%20Data%20Analyst&location=Berlin%2C%20Berlin%2C%20Germany&geoId=106967730&trk=public_jobs_jobs-search-bar_search-submit&position=1&pageNum=0'"
   ]
  },
  {
   "cell_type": "code",
   "execution_count": 4,
   "id": "831f99d0",
   "metadata": {},
   "outputs": [],
   "source": [
    "#Load the web driver and get the url\n",
    "\n",
    "driver = webdriver.Firefox()\n",
    "driver.implicitly_wait(10)\n",
    "driver.get(url1)"
   ]
  },
  {
   "cell_type": "code",
   "execution_count": 5,
   "id": "a1cc0648",
   "metadata": {},
   "outputs": [],
   "source": [
    "#Find number of job listings\n",
    "\n",
    "y=driver.find_elements(By.CLASS_NAME,'results-context-header__job-count')[0].text"
   ]
  },
  {
   "cell_type": "code",
   "execution_count": 6,
   "id": "054fde72",
   "metadata": {},
   "outputs": [
    {
     "data": {
      "text/plain": [
       "str"
      ]
     },
     "execution_count": 6,
     "metadata": {},
     "output_type": "execute_result"
    }
   ],
   "source": [
    "type(y)"
   ]
  },
  {
   "cell_type": "code",
   "execution_count": 7,
   "id": "e9cc85ad",
   "metadata": {},
   "outputs": [],
   "source": [
    "n=pd.to_numeric(y)"
   ]
  },
  {
   "cell_type": "code",
   "execution_count": 8,
   "id": "211955af",
   "metadata": {},
   "outputs": [
    {
     "data": {
      "text/plain": [
       "167"
      ]
     },
     "execution_count": 8,
     "metadata": {},
     "output_type": "execute_result"
    }
   ],
   "source": [
    "n"
   ]
  },
  {
   "cell_type": "code",
   "execution_count": 9,
   "id": "c23f727c",
   "metadata": {},
   "outputs": [],
   "source": [
    "#Loop to scroll through all jobs and click on see more jobs button for infinite scrolling\n",
    "\n",
    "i = 2\n",
    "while i <= int((n+200)/25)+1: \n",
    "    driver.execute_script(\"window.scrollTo(0, document.body.scrollHeight);\")\n",
    "    i = i + 1\n",
    "    \n",
    "    try:\n",
    "        send=driver.find_element(By.XPATH,\"//button[@aria-label='Load more results']\")\n",
    "        driver.execute_script(\"arguments[0].click();\", send)   \n",
    "        time.sleep(3)\n",
    "    \n",
    "        \n",
    "         #buu=driver.find_elements_by_tag_name(\"button\")\n",
    "         #x=[btn for btn in buu if btn.text==\"See more jobs\"]\n",
    "         #for btn in x:\n",
    "                #driver.execute_script(\"arguments[0].click();\", btn)\n",
    "                #time.sleep(3)\n",
    "        \n",
    "                                                 \n",
    "\n",
    "\n",
    "            \n",
    "    except:\n",
    "        pass\n",
    "        time.sleep(5)\n",
    "         \n"
   ]
  },
  {
   "cell_type": "code",
   "execution_count": 10,
   "id": "b76c2587",
   "metadata": {},
   "outputs": [],
   "source": [
    "#Create empty lists for company name and job title\n",
    "\n",
    "companyname= []\n",
    "titlename= []"
   ]
  },
  {
   "cell_type": "code",
   "execution_count": 11,
   "id": "84e4259a",
   "metadata": {},
   "outputs": [
    {
     "name": "stdout",
     "output_type": "stream",
     "text": [
      "no\n"
     ]
    }
   ],
   "source": [
    "#Find company name and append it to the blank list\n",
    "\n",
    "try:\n",
    "    for i in range(n):\n",
    "        company=driver.find_elements(By.CLASS_NAME,'base-search-card__subtitle')[i].text\n",
    "        companyname.append(company)\n",
    "        \n",
    "            \n",
    "    \n",
    "\n",
    "        \n",
    "    \n",
    "\n",
    "    \n",
    "    \n",
    "except IndexError:\n",
    "    print(\"no\")\n",
    "        \n",
    "    \n",
    "    "
   ]
  },
  {
   "cell_type": "code",
   "execution_count": null,
   "id": "e4e11032",
   "metadata": {},
   "outputs": [],
   "source": [
    "len(companyname)"
   ]
  },
  {
   "cell_type": "code",
   "execution_count": 13,
   "id": "10de1f8a",
   "metadata": {},
   "outputs": [
    {
     "name": "stdout",
     "output_type": "stream",
     "text": [
      "no\n"
     ]
    }
   ],
   "source": [
    "#Find title name and append it to the blank list\n",
    "\n",
    "try:\n",
    "    for i in range(n):\n",
    "        \n",
    "        \n",
    "        title=driver.find_elements(By.CLASS_NAME,'base-search-card__title')[i].text\n",
    "    \n",
    "\n",
    "        titlename.append(title)\n",
    "        \n",
    "            \n",
    "\n",
    "\n",
    "    \n",
    "    \n",
    "except IndexError:\n",
    "    print(\"no\")\n",
    "        \n",
    "    "
   ]
  },
  {
   "cell_type": "code",
   "execution_count": 14,
   "id": "8c2be94e",
   "metadata": {},
   "outputs": [
    {
     "data": {
      "text/plain": [
       "120"
      ]
     },
     "execution_count": 14,
     "metadata": {},
     "output_type": "execute_result"
    }
   ],
   "source": [
    "len(titlename)"
   ]
  },
  {
   "cell_type": "code",
   "execution_count": 15,
   "id": "9eca17dc",
   "metadata": {},
   "outputs": [],
   "source": [
    "#Create dataframe for company name and title\n",
    "\n",
    "companyfinal=pd.DataFrame(companyname,columns=[\"company\"])\n",
    "titlefinal=pd.DataFrame(titlename,columns=[\"title\"])"
   ]
  },
  {
   "cell_type": "code",
   "execution_count": 16,
   "id": "b0f43c38",
   "metadata": {},
   "outputs": [],
   "source": [
    "#Join the two lists\n",
    "\n",
    "x=companyfinal.join(titlefinal)"
   ]
  },
  {
   "cell_type": "code",
   "execution_count": 17,
   "id": "611ecfdc",
   "metadata": {},
   "outputs": [
    {
     "data": {
      "text/html": [
       "<div>\n",
       "<style scoped>\n",
       "    .dataframe tbody tr th:only-of-type {\n",
       "        vertical-align: middle;\n",
       "    }\n",
       "\n",
       "    .dataframe tbody tr th {\n",
       "        vertical-align: top;\n",
       "    }\n",
       "\n",
       "    .dataframe thead th {\n",
       "        text-align: right;\n",
       "    }\n",
       "</style>\n",
       "<table border=\"1\" class=\"dataframe\">\n",
       "  <thead>\n",
       "    <tr style=\"text-align: right;\">\n",
       "      <th></th>\n",
       "      <th>company</th>\n",
       "      <th>title</th>\n",
       "    </tr>\n",
       "  </thead>\n",
       "  <tbody>\n",
       "    <tr>\n",
       "      <th>0</th>\n",
       "      <td>Scalable Capital</td>\n",
       "      <td>Senior Marketing Data Analyst (m/f/x)</td>\n",
       "    </tr>\n",
       "    <tr>\n",
       "      <th>1</th>\n",
       "      <td>Zalando</td>\n",
       "      <td>Marketing Analyst (Media Analytics) (all genders)</td>\n",
       "    </tr>\n",
       "    <tr>\n",
       "      <th>2</th>\n",
       "      <td>ING Deutschland</td>\n",
       "      <td>Marketing Data Analyst – Product Area Marketin...</td>\n",
       "    </tr>\n",
       "    <tr>\n",
       "      <th>3</th>\n",
       "      <td>Peak Ace AG</td>\n",
       "      <td>Junior Digital Analyst (m/w/d)</td>\n",
       "    </tr>\n",
       "    <tr>\n",
       "      <th>4</th>\n",
       "      <td>Almedia</td>\n",
       "      <td>Junior Marketing Analyst (f/m/d)</td>\n",
       "    </tr>\n",
       "    <tr>\n",
       "      <th>...</th>\n",
       "      <td>...</td>\n",
       "      <td>...</td>\n",
       "    </tr>\n",
       "    <tr>\n",
       "      <th>115</th>\n",
       "      <td>Legalhero</td>\n",
       "      <td>Business Intelligence Manager / Data Analyst (...</td>\n",
       "    </tr>\n",
       "    <tr>\n",
       "      <th>116</th>\n",
       "      <td>denkwerk GmbH</td>\n",
       "      <td>Senior Data Analyst / Online Marketing (m/w/d)</td>\n",
       "    </tr>\n",
       "    <tr>\n",
       "      <th>117</th>\n",
       "      <td>Bling.de</td>\n",
       "      <td>Growth Analyst (m/w/d)</td>\n",
       "    </tr>\n",
       "    <tr>\n",
       "      <th>118</th>\n",
       "      <td>KENFO - Fonds zur Finanzierung der kerntechnis...</td>\n",
       "      <td>Business Analyst (IT) (m/w/d)</td>\n",
       "    </tr>\n",
       "    <tr>\n",
       "      <th>119</th>\n",
       "      <td>Enpal</td>\n",
       "      <td>Growth &amp; Expansion Analyst (w/m/d)</td>\n",
       "    </tr>\n",
       "  </tbody>\n",
       "</table>\n",
       "<p>120 rows × 2 columns</p>\n",
       "</div>"
      ],
      "text/plain": [
       "                                               company  \\\n",
       "0                                     Scalable Capital   \n",
       "1                                              Zalando   \n",
       "2                                      ING Deutschland   \n",
       "3                                          Peak Ace AG   \n",
       "4                                              Almedia   \n",
       "..                                                 ...   \n",
       "115                                          Legalhero   \n",
       "116                                      denkwerk GmbH   \n",
       "117                                           Bling.de   \n",
       "118  KENFO - Fonds zur Finanzierung der kerntechnis...   \n",
       "119                                              Enpal   \n",
       "\n",
       "                                                 title  \n",
       "0                Senior Marketing Data Analyst (m/f/x)  \n",
       "1    Marketing Analyst (Media Analytics) (all genders)  \n",
       "2    Marketing Data Analyst – Product Area Marketin...  \n",
       "3                       Junior Digital Analyst (m/w/d)  \n",
       "4                     Junior Marketing Analyst (f/m/d)  \n",
       "..                                                 ...  \n",
       "115  Business Intelligence Manager / Data Analyst (...  \n",
       "116     Senior Data Analyst / Online Marketing (m/w/d)  \n",
       "117                             Growth Analyst (m/w/d)  \n",
       "118                      Business Analyst (IT) (m/w/d)  \n",
       "119                 Growth & Expansion Analyst (w/m/d)  \n",
       "\n",
       "[120 rows x 2 columns]"
      ]
     },
     "execution_count": 17,
     "metadata": {},
     "output_type": "execute_result"
    }
   ],
   "source": [
    "x"
   ]
  },
  {
   "cell_type": "code",
   "execution_count": 18,
   "id": "217b1e6d",
   "metadata": {},
   "outputs": [],
   "source": [
    "#Save file in your directory\n",
    "\n",
    "x.to_csv('linkedin.csv')"
   ]
  },
  {
   "cell_type": "code",
   "execution_count": 19,
   "id": "f56c6c5e",
   "metadata": {},
   "outputs": [],
   "source": [
    "#Find job links and append it to a list\n",
    "\n",
    "jobList = driver.find_elements(By.CLASS_NAME,'base-card__full-link')\n",
    "hrefList = []\n",
    "for e in jobList:\n",
    "    hrefList.append(e.get_attribute('href'))\n",
    "\n",
    "#for href in hrefList:\n",
    "    #link.append(href)"
   ]
  },
  {
   "cell_type": "code",
   "execution_count": 20,
   "id": "86c6a62f",
   "metadata": {},
   "outputs": [
    {
     "data": {
      "text/plain": [
       "['https://de.linkedin.com/jobs/view/senior-marketing-data-analyst-m-f-x-at-scalable-capital-3879603647?position=1&pageNum=0&refId=tIm89zJ%2BKQ5VnY8FoMTPSQ%3D%3D&trackingId=xhXBQsL%2B0CgtjPy8KZZ2MA%3D%3D&trk=public_jobs_jserp-result_search-card',\n",
       " 'https://de.linkedin.com/jobs/view/marketing-analyst-media-analytics-all-genders-at-zalando-3870845471?position=2&pageNum=0&refId=tIm89zJ%2BKQ5VnY8FoMTPSQ%3D%3D&trackingId=0m067nROvw4IOSFolcmqkA%3D%3D&trk=public_jobs_jserp-result_search-card',\n",
       " 'https://de.linkedin.com/jobs/view/marketing-data-analyst-%E2%80%93-product-area-marketing-analytics-pricing-w-m-d-at-ing-deutschland-3860511977?position=3&pageNum=0&refId=tIm89zJ%2BKQ5VnY8FoMTPSQ%3D%3D&trackingId=5Fo%2Fgv%2FyGklRLGGxZyVVxA%3D%3D&trk=public_jobs_jserp-result_search-card',\n",
       " 'https://de.linkedin.com/jobs/view/junior-digital-analyst-m-w-d-at-peak-ace-ag-3837972343?position=4&pageNum=0&refId=tIm89zJ%2BKQ5VnY8FoMTPSQ%3D%3D&trackingId=vNw%2Be2%2FWDqKf7p59mPnsZA%3D%3D&trk=public_jobs_jserp-result_search-card',\n",
       " 'https://de.linkedin.com/jobs/view/junior-marketing-analyst-f-m-d-at-almedia-3840697508?position=5&pageNum=0&refId=tIm89zJ%2BKQ5VnY8FoMTPSQ%3D%3D&trackingId=CFW9kXhalXGZU%2BYp9Rt%2Fmw%3D%3D&trk=public_jobs_jserp-result_search-card',\n",
       " 'https://de.linkedin.com/jobs/view/crm-analyst-all-genders-at-tink-3845691711?position=6&pageNum=0&refId=tIm89zJ%2BKQ5VnY8FoMTPSQ%3D%3D&trackingId=IxgjkgeN6KWtImKxAAFysA%3D%3D&trk=public_jobs_jserp-result_search-card',\n",
       " 'https://de.linkedin.com/jobs/view/senior-data-analyst-get-a-30%25-salary-increase-pay-0%25-tax-at-puffy-3811000459?position=7&pageNum=0&refId=tIm89zJ%2BKQ5VnY8FoMTPSQ%3D%3D&trackingId=0sCdFxfxNU0ZQph0Ce7vXw%3D%3D&trk=public_jobs_jserp-result_search-card',\n",
       " 'https://de.linkedin.com/jobs/view/junior-marketing-analyst-m-w-d-at-loewenstark-online-marketing-gmbh-3866741772?position=8&pageNum=0&refId=tIm89zJ%2BKQ5VnY8FoMTPSQ%3D%3D&trackingId=1DHJwgu4BdQeOUDPqFZM8w%3D%3D&trk=public_jobs_jserp-result_search-card',\n",
       " 'https://de.linkedin.com/jobs/view/senior-data-analyst-business-analytics-supply-acquisition-at-getyourguide-3857987085?position=9&pageNum=0&refId=tIm89zJ%2BKQ5VnY8FoMTPSQ%3D%3D&trackingId=vtJYfG22ntoG41lPBZ12ZA%3D%3D&trk=public_jobs_jserp-result_search-card',\n",
       " 'https://de.linkedin.com/jobs/view/business-analyst-data-ai-life-sciences-w-m-d-at-capgemini-3760808449?position=10&pageNum=0&refId=tIm89zJ%2BKQ5VnY8FoMTPSQ%3D%3D&trackingId=U9MaS%2Bt6juvIGSvc1AwTyQ%3D%3D&trk=public_jobs_jserp-result_search-card',\n",
       " 'https://de.linkedin.com/jobs/view/junior-digital-marketing-analyst-m-w-d-at-peak-ace-ag-3872652411?position=11&pageNum=0&refId=tIm89zJ%2BKQ5VnY8FoMTPSQ%3D%3D&trackingId=xGrY0071xGhpNR14KNB7SA%3D%3D&trk=public_jobs_jserp-result_search-card',\n",
       " 'https://de.linkedin.com/jobs/view/senior-marketing-analyst-crm-m-f-d-at-momox-3864883525?position=12&pageNum=0&refId=tIm89zJ%2BKQ5VnY8FoMTPSQ%3D%3D&trackingId=YYehpWf2Qmr4yQWJEJydaw%3D%3D&trk=public_jobs_jserp-result_search-card',\n",
       " 'https://de.linkedin.com/jobs/view/senior-email-marketing-analyst-at-lovehoney-group-3879829277?position=13&pageNum=0&refId=tIm89zJ%2BKQ5VnY8FoMTPSQ%3D%3D&trackingId=ClwgHDlDDDzm4UscnpkFyg%3D%3D&trk=public_jobs_jserp-result_search-card',\n",
       " 'https://de.linkedin.com/jobs/view/businessanalyst-in-m-w-div-at-deutsche-rentenversicherung-bund-3706794548?position=14&pageNum=0&refId=tIm89zJ%2BKQ5VnY8FoMTPSQ%3D%3D&trackingId=CrLovTiYsBBCIoz62dLteA%3D%3D&trk=public_jobs_jserp-result_search-card',\n",
       " 'https://de.linkedin.com/jobs/view/conversion-analyst-m-w-d-at-fyte-3833033900?position=15&pageNum=0&refId=tIm89zJ%2BKQ5VnY8FoMTPSQ%3D%3D&trackingId=cbmxIs2C3h8QBvMb1RlP3A%3D%3D&trk=public_jobs_jserp-result_search-card',\n",
       " 'https://de.linkedin.com/jobs/view/senior-marketing-analyst-m-f-d-at-koro-3862273814?position=16&pageNum=0&refId=tIm89zJ%2BKQ5VnY8FoMTPSQ%3D%3D&trackingId=syaHxZoTiKtzSKz4k%2FSAhg%3D%3D&trk=public_jobs_jserp-result_search-card',\n",
       " 'https://de.linkedin.com/jobs/view/sr-digital-analyst-at-adaptive-business-group-3870855202?position=17&pageNum=0&refId=tIm89zJ%2BKQ5VnY8FoMTPSQ%3D%3D&trackingId=mDScmrWC5bYTjH30XceVBQ%3D%3D&trk=public_jobs_jserp-result_search-card',\n",
       " 'https://de.linkedin.com/jobs/view/senior-campaign-analyst-at-justwatch-3875050395?position=18&pageNum=0&refId=tIm89zJ%2BKQ5VnY8FoMTPSQ%3D%3D&trackingId=BYLmRPT52m9zaf%2B%2BKw45UA%3D%3D&trk=public_jobs_jserp-result_search-card',\n",
       " 'https://de.linkedin.com/jobs/view/digital-marketing-analyst-m-w-d-at-peak-ace-ag-3868882698?position=19&pageNum=0&refId=tIm89zJ%2BKQ5VnY8FoMTPSQ%3D%3D&trackingId=XrGNGrBAOeel%2Fd93T7p9hg%3D%3D&trk=public_jobs_jserp-result_search-card',\n",
       " 'https://de.linkedin.com/jobs/view/senior-marketing-analyst-m-f-d-at-koro-3848350975?position=20&pageNum=0&refId=tIm89zJ%2BKQ5VnY8FoMTPSQ%3D%3D&trackingId=YppPBz6odort3aFZVA3T1A%3D%3D&trk=public_jobs_jserp-result_search-card',\n",
       " 'https://de.linkedin.com/jobs/view/fully-remote-business-analyst-logistics-experience-at-adepto-technical-recruitment-limited-3847199275?position=21&pageNum=0&refId=tIm89zJ%2BKQ5VnY8FoMTPSQ%3D%3D&trackingId=%2BbH9ljqJHGT9TKlzF5Q0Ew%3D%3D&trk=public_jobs_jserp-result_search-card',\n",
       " 'https://de.linkedin.com/jobs/view/senior-marketing-analyst-m-f-d-at-contorion-3837970517?position=22&pageNum=0&refId=tIm89zJ%2BKQ5VnY8FoMTPSQ%3D%3D&trackingId=1MAnZiu%2FzseP0upywrVfww%3D%3D&trk=public_jobs_jserp-result_search-card',\n",
       " 'https://de.linkedin.com/jobs/view/business-data-analyst-bangkok-based-relocation-provided-at-agoda-3748495136?position=23&pageNum=0&refId=tIm89zJ%2BKQ5VnY8FoMTPSQ%3D%3D&trackingId=0zSsOj5XawRPaBmmLJp0iA%3D%3D&trk=public_jobs_jserp-result_search-card',\n",
       " 'https://de.linkedin.com/jobs/view/digital-business-analyst-all-genders-at-simplesurance-gmbh-3825015358?position=24&pageNum=0&refId=tIm89zJ%2BKQ5VnY8FoMTPSQ%3D%3D&trackingId=TX%2Bij0OK8PmbFvO5TznUZg%3D%3D&trk=public_jobs_jserp-result_search-card',\n",
       " 'https://de.linkedin.com/jobs/view/senior-analyst-d-f-m-marketing-science-at-immoscout24-3851296098?position=25&pageNum=0&refId=tIm89zJ%2BKQ5VnY8FoMTPSQ%3D%3D&trackingId=fM8e8E7VwwhDIa3lr8OnWw%3D%3D&trk=public_jobs_jserp-result_search-card',\n",
       " 'https://de.linkedin.com/jobs/view/business-analystin-at-lawpilots-3870519362?position=26&pageNum=0&refId=tIm89zJ%2BKQ5VnY8FoMTPSQ%3D%3D&trackingId=Qfxx12kURLsbIC6ahm%2ByJw%3D%3D&trk=public_jobs_jserp-result_search-card',\n",
       " 'https://de.linkedin.com/jobs/view/business-analyst-all-genders-at-delivery-hero-3865114249?position=27&pageNum=0&refId=tIm89zJ%2BKQ5VnY8FoMTPSQ%3D%3D&trackingId=y2iGJOpOYQbKyENmxHZagw%3D%3D&trk=public_jobs_jserp-result_search-card',\n",
       " 'https://de.linkedin.com/jobs/view/business-analyst-controlling-w-m-d-at-getec-group-3832477423?position=28&pageNum=0&refId=tIm89zJ%2BKQ5VnY8FoMTPSQ%3D%3D&trackingId=cS%2FNqhVusGsRuTBrj4SLkA%3D%3D&trk=public_jobs_jserp-result_search-card',\n",
       " 'https://de.linkedin.com/jobs/view/senior-analyst-d-f-m-marketing-science-at-scout24-group-3848212020?position=29&pageNum=0&refId=tIm89zJ%2BKQ5VnY8FoMTPSQ%3D%3D&trackingId=GmNc5WypY%2BMRe2gqskx4kA%3D%3D&trk=public_jobs_jserp-result_search-card',\n",
       " 'https://de.linkedin.com/jobs/view/senior-marketing-analyst-m-f-d-at-contorion-3858521835?position=30&pageNum=0&refId=tIm89zJ%2BKQ5VnY8FoMTPSQ%3D%3D&trackingId=hskX0yozMC5HH1jPiWVHTg%3D%3D&trk=public_jobs_jserp-result_search-card',\n",
       " 'https://de.linkedin.com/jobs/view/senior-analyst-strategy-market-intelligence-at-springer-nature-group-3855444273?position=31&pageNum=0&refId=tIm89zJ%2BKQ5VnY8FoMTPSQ%3D%3D&trackingId=IeddHbQ%2BCUINCVTQrMg6yA%3D%3D&trk=public_jobs_jserp-result_search-card',\n",
       " 'https://de.linkedin.com/jobs/view/senior-marketing-analyst-m-f-d-at-flaconi-3849624664?position=32&pageNum=0&refId=tIm89zJ%2BKQ5VnY8FoMTPSQ%3D%3D&trackingId=dRbK8yHmOQ4qnihqoejFcQ%3D%3D&trk=public_jobs_jserp-result_search-card',\n",
       " 'https://de.linkedin.com/jobs/view/business-analyst-f-m-d-at-meininger-hotels-3881517513?position=33&pageNum=0&refId=tIm89zJ%2BKQ5VnY8FoMTPSQ%3D%3D&trackingId=7pLu0VTs6%2Fay43FSUb96%2BA%3D%3D&trk=public_jobs_jserp-result_search-card',\n",
       " 'https://de.linkedin.com/jobs/view/senior-analyst-d-f-m-marketing-science-at-immoscout24-3852978732?position=34&pageNum=0&refId=tIm89zJ%2BKQ5VnY8FoMTPSQ%3D%3D&trackingId=fbG8U%2BIUWreFa6Cx8mm8UA%3D%3D&trk=public_jobs_jserp-result_search-card',\n",
       " 'https://de.linkedin.com/jobs/view/business-analyst-f-m-d-at-verve-group-3863976291?position=35&pageNum=0&refId=tIm89zJ%2BKQ5VnY8FoMTPSQ%3D%3D&trackingId=UWA2hdK9Ca2uVKpLHdwYAQ%3D%3D&trk=public_jobs_jserp-result_search-card',\n",
       " 'https://de.linkedin.com/jobs/view/business-analyst-m-w-d-43-cl-27-2-at-moyyn-3587529775?position=36&pageNum=0&refId=tIm89zJ%2BKQ5VnY8FoMTPSQ%3D%3D&trackingId=JiAKPLIvrLRYy%2Fw7XE9dHw%3D%3D&trk=public_jobs_jserp-result_search-card',\n",
       " 'https://de.linkedin.com/jobs/view/business-analyst-ceo-office-w-m-d-at-verve-group-3874678487?position=37&pageNum=0&refId=tIm89zJ%2BKQ5VnY8FoMTPSQ%3D%3D&trackingId=HTB%2B4Qirf8sxLtAzQqwaWA%3D%3D&trk=public_jobs_jserp-result_search-card',\n",
       " 'https://de.linkedin.com/jobs/view/next-generation-market-analyst-m-w-d-at-i-potentials-gmbh-3858595030?position=38&pageNum=0&refId=tIm89zJ%2BKQ5VnY8FoMTPSQ%3D%3D&trackingId=gR4tCn0%2FDkPxkwZqOdt6hw%3D%3D&trk=public_jobs_jserp-result_search-card',\n",
       " 'https://de.linkedin.com/jobs/view/de-sea-performance-marketing-manager-kurzurlaub-m-f-d-at-hometogo-3844331575?position=39&pageNum=0&refId=tIm89zJ%2BKQ5VnY8FoMTPSQ%3D%3D&trackingId=NibLNcSeThR2MKSYtqyneg%3D%3D&trk=public_jobs_jserp-result_search-card',\n",
       " 'https://de.linkedin.com/jobs/view/business-analyst-m-f-d-proptech-innovation-at-aroundtown-3844887960?position=40&pageNum=0&refId=tIm89zJ%2BKQ5VnY8FoMTPSQ%3D%3D&trackingId=rywVQr%2FNRRMYcejnmCCTQA%3D%3D&trk=public_jobs_jserp-result_search-card',\n",
       " 'https://de.linkedin.com/jobs/view/business-analyst-m-w-d-at-michael-page-3839754582?position=41&pageNum=0&refId=tIm89zJ%2BKQ5VnY8FoMTPSQ%3D%3D&trackingId=1h6prytsgZzZj9ORXFY%2FlA%3D%3D&trk=public_jobs_jserp-result_search-card',\n",
       " 'https://de.linkedin.com/jobs/view/business-analyst-value-added-services-m-w-d-at-verivox-gmbh-3808136547?position=42&pageNum=0&refId=tIm89zJ%2BKQ5VnY8FoMTPSQ%3D%3D&trackingId=tWbCgW50aRREimVX%2BDonoQ%3D%3D&trk=public_jobs_jserp-result_search-card',\n",
       " 'https://de.linkedin.com/jobs/view/business-analyst-at-amaris-consulting-3825904618?position=43&pageNum=0&refId=tIm89zJ%2BKQ5VnY8FoMTPSQ%3D%3D&trackingId=axLipKeGg2SYyp%2B6Xvpm0A%3D%3D&trk=public_jobs_jserp-result_search-card',\n",
       " 'https://de.linkedin.com/jobs/view/business-analyst-customer-experience-at-adepto-technical-recruitment-limited-3848407733?position=44&pageNum=0&refId=tIm89zJ%2BKQ5VnY8FoMTPSQ%3D%3D&trackingId=admN2AJU6lDQe3QtgeOsVg%3D%3D&trk=public_jobs_jserp-result_search-card',\n",
       " 'https://de.linkedin.com/jobs/view/business-analyst-consumer-sales-all-genders-at-p%C3%BFur-tele-columbus-3822808051?position=45&pageNum=0&refId=tIm89zJ%2BKQ5VnY8FoMTPSQ%3D%3D&trackingId=PeOKl9BxE097nHkh3Fk6XQ%3D%3D&trk=public_jobs_jserp-result_search-card',\n",
       " 'https://de.linkedin.com/jobs/view/business-analyst-m-w-d-at-michael-page-3867314335?position=46&pageNum=0&refId=tIm89zJ%2BKQ5VnY8FoMTPSQ%3D%3D&trackingId=q8YF%2F2G2Vbak%2Fc1MWW65XQ%3D%3D&trk=public_jobs_jserp-result_search-card',\n",
       " 'https://de.linkedin.com/jobs/view/business-analyst-at-dabster-3818819649?position=47&pageNum=0&refId=tIm89zJ%2BKQ5VnY8FoMTPSQ%3D%3D&trackingId=fj33iZF51fQ9BOwTF7IvrQ%3D%3D&trk=public_jobs_jserp-result_search-card',\n",
       " 'https://de.linkedin.com/jobs/view/business-analyst-all-genders-digitalisierung-at-lufthansa-industry-solutions-3827088238?position=48&pageNum=0&refId=tIm89zJ%2BKQ5VnY8FoMTPSQ%3D%3D&trackingId=0aG3ycx7ytXPi7OBe9sXfQ%3D%3D&trk=public_jobs_jserp-result_search-card',\n",
       " 'https://de.linkedin.com/jobs/view/duales-studium-bwl-versicherung-b-a-at-devk-versicherungen-3708928337?position=49&pageNum=0&refId=tIm89zJ%2BKQ5VnY8FoMTPSQ%3D%3D&trackingId=TNu82SfS7%2FIuLsag38Jwbg%3D%3D&trk=public_jobs_jserp-result_search-card',\n",
       " 'https://de.linkedin.com/jobs/view/product-analyst-financial-services-stream-at-tabby-3841317013?position=50&pageNum=0&refId=tIm89zJ%2BKQ5VnY8FoMTPSQ%3D%3D&trackingId=8S1%2BUWf8Vprnnxs9jdo78g%3D%3D&trk=public_jobs_jserp-result_search-card',\n",
       " 'https://de.linkedin.com/jobs/view/business-analysts-p-c-f-m-x-at-ibm-3697723136?position=51&pageNum=0&refId=tIm89zJ%2BKQ5VnY8FoMTPSQ%3D%3D&trackingId=9jhZvu5nuL6qv7GJhdUsDg%3D%3D&trk=public_jobs_jserp-result_search-card',\n",
       " 'https://de.linkedin.com/jobs/view/business-analyst-m-w-d-at-randstad-deutschland-3873754714?position=52&pageNum=0&refId=tIm89zJ%2BKQ5VnY8FoMTPSQ%3D%3D&trackingId=hyKPOGtOp2dWAv8iIbjAOg%3D%3D&trk=public_jobs_jserp-result_search-card',\n",
       " 'https://de.linkedin.com/jobs/view/senior-digital-marketing-analyst-m-w-d-at-peak-ace-ag-3874524303?position=53&pageNum=0&refId=tIm89zJ%2BKQ5VnY8FoMTPSQ%3D%3D&trackingId=IBSW4pdlzAimzTqP10dgig%3D%3D&trk=public_jobs_jserp-result_search-card',\n",
       " 'https://de.linkedin.com/jobs/view/business-analyst-m-w-d-at-mediamarktsaturn-3801293970?position=54&pageNum=0&refId=tIm89zJ%2BKQ5VnY8FoMTPSQ%3D%3D&trackingId=FP9FboVPK2b7DzdlRq1FeQ%3D%3D&trk=public_jobs_jserp-result_search-card',\n",
       " 'https://de.linkedin.com/jobs/view/d365-f-o-business-analyst-scm-at-interex-group-3851501045?position=55&pageNum=0&refId=tIm89zJ%2BKQ5VnY8FoMTPSQ%3D%3D&trackingId=JN1J24cQncAvm0zQdTiY9Q%3D%3D&trk=public_jobs_jserp-result_search-card',\n",
       " 'https://de.linkedin.com/jobs/view/senior-digital-marketing-analyst-m-w-d-b2b-at-callone-gmbh-3861579464?position=56&pageNum=0&refId=tIm89zJ%2BKQ5VnY8FoMTPSQ%3D%3D&trackingId=NmMUDrk7Eb9RVUXMjlDQJA%3D%3D&trk=public_jobs_jserp-result_search-card',\n",
       " 'https://de.linkedin.com/jobs/view/business-analyst-consultant-strategieberatung-monitor-deloitte-m-w-d-at-deloitte-3365805053?position=57&pageNum=0&refId=tIm89zJ%2BKQ5VnY8FoMTPSQ%3D%3D&trackingId=GytmSCdyttKX00bCGQRKHQ%3D%3D&trk=public_jobs_jserp-result_search-card',\n",
       " 'https://de.linkedin.com/jobs/view/fp-a-business-analyst-at-mygwork-lgbtq%2B-business-community-3848226313?position=58&pageNum=0&refId=tIm89zJ%2BKQ5VnY8FoMTPSQ%3D%3D&trackingId=YugJ4lwzu1evepVIYc0bLA%3D%3D&trk=public_jobs_jserp-result_search-card',\n",
       " 'https://de.linkedin.com/jobs/view/deutsche-bahn-business-analyst-w-m-d-at-heyjobs-3856802846?position=59&pageNum=0&refId=tIm89zJ%2BKQ5VnY8FoMTPSQ%3D%3D&trackingId=O5qEjjMBtm%2BWmOb54h9brw%3D%3D&trk=public_jobs_jserp-result_search-card',\n",
       " 'https://de.linkedin.com/jobs/view/business-analyst-m-w-d-at-cbtw-3832274822?position=60&pageNum=0&refId=tIm89zJ%2BKQ5VnY8FoMTPSQ%3D%3D&trackingId=c8m0eCGEuGg4n4Uuw58z1g%3D%3D&trk=public_jobs_jserp-result_search-card',\n",
       " 'https://de.linkedin.com/jobs/view/business-analystin-at-lawpilots-3870519362?position=1&pageNum=2&refId=ioYIZBuiUplBpWm1jysTSg%3D%3D&trackingId=yKEyXZfoxpfjJf0lN9gPAQ%3D%3D&trk=public_jobs_jserp-result_search-card',\n",
       " 'https://de.linkedin.com/jobs/view/business-analyst-all-genders-at-delivery-hero-3865114249?position=2&pageNum=2&refId=ioYIZBuiUplBpWm1jysTSg%3D%3D&trackingId=exGYtIp%2Fi%2FQAzeOmj4MsIQ%3D%3D&trk=public_jobs_jserp-result_search-card',\n",
       " 'https://de.linkedin.com/jobs/view/business-analyst-controlling-w-m-d-at-getec-group-3832477423?position=3&pageNum=2&refId=ioYIZBuiUplBpWm1jysTSg%3D%3D&trackingId=6Vu6A5OI3AeIvHotIYx5Fw%3D%3D&trk=public_jobs_jserp-result_search-card',\n",
       " 'https://de.linkedin.com/jobs/view/senior-analyst-d-f-m-marketing-science-at-scout24-group-3848212020?position=4&pageNum=2&refId=ioYIZBuiUplBpWm1jysTSg%3D%3D&trackingId=Z2qu2oM19cEYFFOQtoe7gQ%3D%3D&trk=public_jobs_jserp-result_search-card',\n",
       " 'https://de.linkedin.com/jobs/view/senior-marketing-analyst-m-f-d-at-contorion-3858521835?position=5&pageNum=2&refId=ioYIZBuiUplBpWm1jysTSg%3D%3D&trackingId=Mnj3MQ9Ek%2Fe%2B9uFOi05Wlg%3D%3D&trk=public_jobs_jserp-result_search-card',\n",
       " 'https://de.linkedin.com/jobs/view/senior-analyst-strategy-market-intelligence-at-springer-nature-group-3855444273?position=6&pageNum=2&refId=ioYIZBuiUplBpWm1jysTSg%3D%3D&trackingId=VtkejqAb6LHZbXCYh5WK9g%3D%3D&trk=public_jobs_jserp-result_search-card',\n",
       " 'https://de.linkedin.com/jobs/view/senior-marketing-analyst-m-f-d-at-flaconi-3849624664?position=7&pageNum=2&refId=ioYIZBuiUplBpWm1jysTSg%3D%3D&trackingId=fFcCvlRkr1w8wYBvbFApew%3D%3D&trk=public_jobs_jserp-result_search-card',\n",
       " 'https://de.linkedin.com/jobs/view/business-analyst-f-m-d-at-meininger-hotels-3881517513?position=8&pageNum=2&refId=ioYIZBuiUplBpWm1jysTSg%3D%3D&trackingId=jAsqnnrfuLx8pv4dKDVnAg%3D%3D&trk=public_jobs_jserp-result_search-card',\n",
       " 'https://de.linkedin.com/jobs/view/senior-analyst-d-f-m-marketing-science-at-immoscout24-3852978732?position=9&pageNum=2&refId=ioYIZBuiUplBpWm1jysTSg%3D%3D&trackingId=SQTAp6S5tgmIRygoXoz%2FRA%3D%3D&trk=public_jobs_jserp-result_search-card',\n",
       " 'https://de.linkedin.com/jobs/view/business-analyst-f-m-d-at-verve-group-3863976291?position=10&pageNum=2&refId=ioYIZBuiUplBpWm1jysTSg%3D%3D&trackingId=6S3QOX0YRr4NgbSJF0qEsw%3D%3D&trk=public_jobs_jserp-result_search-card',\n",
       " 'https://de.linkedin.com/jobs/view/business-analysts-p-c-f-m-x-at-ibm-3697723136?position=1&pageNum=5&refId=vYDtsDZDDq85Gr93oxcMcA%3D%3D&trackingId=nvZBKt6s9Q%2FuXIowi6mEWQ%3D%3D&trk=public_jobs_jserp-result_search-card',\n",
       " 'https://de.linkedin.com/jobs/view/business-analyst-m-w-d-at-randstad-deutschland-3873754714?position=2&pageNum=5&refId=vYDtsDZDDq85Gr93oxcMcA%3D%3D&trackingId=%2BFLSD7pLi29%2Ff2aPuRW2LA%3D%3D&trk=public_jobs_jserp-result_search-card',\n",
       " 'https://de.linkedin.com/jobs/view/senior-digital-marketing-analyst-m-w-d-at-peak-ace-ag-3874524303?position=3&pageNum=5&refId=vYDtsDZDDq85Gr93oxcMcA%3D%3D&trackingId=4uOYGGx%2FdumzQpoMQXE%2BOw%3D%3D&trk=public_jobs_jserp-result_search-card',\n",
       " 'https://de.linkedin.com/jobs/view/business-analyst-m-w-d-at-mediamarktsaturn-3801293970?position=4&pageNum=5&refId=vYDtsDZDDq85Gr93oxcMcA%3D%3D&trackingId=0zv6BNXd74ETB0YnMELj7w%3D%3D&trk=public_jobs_jserp-result_search-card',\n",
       " 'https://de.linkedin.com/jobs/view/d365-f-o-business-analyst-scm-at-interex-group-3851501045?position=5&pageNum=5&refId=vYDtsDZDDq85Gr93oxcMcA%3D%3D&trackingId=YjB%2FZbqECkJZT1bSH04kUg%3D%3D&trk=public_jobs_jserp-result_search-card',\n",
       " 'https://de.linkedin.com/jobs/view/senior-digital-marketing-analyst-m-w-d-b2b-at-callone-gmbh-3861579464?position=6&pageNum=5&refId=vYDtsDZDDq85Gr93oxcMcA%3D%3D&trackingId=H0PKomJRjLGSe0dhMOb%2BCQ%3D%3D&trk=public_jobs_jserp-result_search-card',\n",
       " 'https://de.linkedin.com/jobs/view/business-analyst-consultant-strategieberatung-monitor-deloitte-m-w-d-at-deloitte-3365805053?position=7&pageNum=5&refId=vYDtsDZDDq85Gr93oxcMcA%3D%3D&trackingId=wTY8co0TNl1ISBKShAlCBA%3D%3D&trk=public_jobs_jserp-result_search-card',\n",
       " 'https://de.linkedin.com/jobs/view/fp-a-business-analyst-at-mygwork-lgbtq%2B-business-community-3848226313?position=8&pageNum=5&refId=vYDtsDZDDq85Gr93oxcMcA%3D%3D&trackingId=oGUOC8Eh9u0k3ljCXlxmXw%3D%3D&trk=public_jobs_jserp-result_search-card',\n",
       " 'https://de.linkedin.com/jobs/view/deutsche-bahn-business-analyst-w-m-d-at-heyjobs-3856802846?position=9&pageNum=5&refId=vYDtsDZDDq85Gr93oxcMcA%3D%3D&trackingId=B8lyQXj4X6nmYAudQaVMxw%3D%3D&trk=public_jobs_jserp-result_search-card',\n",
       " 'https://de.linkedin.com/jobs/view/business-analyst-m-w-d-at-cbtw-3832274822?position=10&pageNum=5&refId=vYDtsDZDDq85Gr93oxcMcA%3D%3D&trackingId=vTEDBcJv2LK9YYgWbjXC5w%3D%3D&trk=public_jobs_jserp-result_search-card',\n",
       " 'https://de.linkedin.com/jobs/view/specialist-business-financial-analysis-all-genders-at-q-energy-3829895374?position=1&pageNum=7&refId=ze%2Bu7LQ36mT9sbMz%2Brgr8w%3D%3D&trackingId=Sc%2FH%2Bi5KCPGx0qQZMbnglA%3D%3D&trk=public_jobs_jserp-result_search-card',\n",
       " 'https://de.linkedin.com/jobs/view/business-analyst-trade-finance-at-mygwork-lgbtq%2B-business-community-3851737230?position=2&pageNum=7&refId=ze%2Bu7LQ36mT9sbMz%2Brgr8w%3D%3D&trackingId=UX2hXQty4q9Yxxw0NtZqlA%3D%3D&trk=public_jobs_jserp-result_search-card',\n",
       " 'https://de.linkedin.com/jobs/view/business-analyst-consultant-m-w-d-enterprise-resource-planning-erp-in-berlin-at-deloitte-3277747614?position=3&pageNum=7&refId=ze%2Bu7LQ36mT9sbMz%2Brgr8w%3D%3D&trackingId=DzGOIPXp4T87oSl2gTb7FQ%3D%3D&trk=public_jobs_jserp-result_search-card',\n",
       " 'https://de.linkedin.com/jobs/view/business-analyst-trade-finance-technical-at-mygwork-lgbtq%2B-business-community-3857017129?position=4&pageNum=7&refId=ze%2Bu7LQ36mT9sbMz%2Brgr8w%3D%3D&trackingId=nxQcWgu6Q%2FrbQudzZACIbw%3D%3D&trk=public_jobs_jserp-result_search-card',\n",
       " 'https://de.linkedin.com/jobs/view/business-analyst-verm%C3%B6gen-und-eigenkapital-m-w-d-at-atruvia-ag-3862374666?position=5&pageNum=7&refId=ze%2Bu7LQ36mT9sbMz%2Brgr8w%3D%3D&trackingId=OHQUFuOk2nJSNWfxFrWAjg%3D%3D&trk=public_jobs_jserp-result_search-card',\n",
       " 'https://de.linkedin.com/jobs/view/performance-marketing-manager-sea-%E2%80%93-deutsch-m-w-d-at-home24-se-3790657658?position=6&pageNum=7&refId=ze%2Bu7LQ36mT9sbMz%2Brgr8w%3D%3D&trackingId=BDw4Cd%2FzDLw8LEliJPR6Dw%3D%3D&trk=public_jobs_jserp-result_search-card',\n",
       " 'https://de.linkedin.com/jobs/view/duales-studium-bwl-b-a-am-campus-oder-virtuell-at-iu-international-university-of-applied-sciences-3802370742?position=7&pageNum=7&refId=ze%2Bu7LQ36mT9sbMz%2Brgr8w%3D%3D&trackingId=Lg3QQVapg8Fp6%2F2qyCDV7Q%3D%3D&trk=public_jobs_jserp-result_search-card',\n",
       " 'https://de.linkedin.com/jobs/view/business-analyst-zahlungsverkehr-echtzeit-m-w-d-at-atruvia-ag-3866297415?position=8&pageNum=7&refId=ze%2Bu7LQ36mT9sbMz%2Brgr8w%3D%3D&trackingId=nc%2BGM3aZYh%2BiTig0SurDuw%3D%3D&trk=public_jobs_jserp-result_search-card',\n",
       " 'https://de.linkedin.com/jobs/view/duales-studium-bwl-b-a-am-campus-oder-virtuell-at-iu-international-university-of-applied-sciences-3802373231?position=9&pageNum=7&refId=ze%2Bu7LQ36mT9sbMz%2Brgr8w%3D%3D&trackingId=rxyTCgvg0HlfW%2FysXutjIg%3D%3D&trk=public_jobs_jserp-result_search-card',\n",
       " 'https://de.linkedin.com/jobs/view/business-analyst-banking-m-w-d-at-msg-for-banking-ag-3574443223?position=10&pageNum=7&refId=ze%2Bu7LQ36mT9sbMz%2Brgr8w%3D%3D&trackingId=GChuO4uI%2FWaf8FbQk8l4tQ%3D%3D&trk=public_jobs_jserp-result_search-card',\n",
       " 'https://de.linkedin.com/jobs/view/business-architect-business-analyst-electricity-balancing-w-m-d-at-50hertz-transmission-gmbh-3807142225?position=1&pageNum=10&refId=fCdNhg9Xp0qHQc62w0nIsg%3D%3D&trackingId=U83BdM1xHhDB8vSM%2FiFUVw%3D%3D&trk=public_jobs_jserp-result_search-card',\n",
       " 'https://de.linkedin.com/jobs/view/duales-studium-b-a-bwl-mit-schwerpunkt-business-sales-in-berlin-2024-at-vodafone-3817605445?position=2&pageNum=10&refId=fCdNhg9Xp0qHQc62w0nIsg%3D%3D&trackingId=xvx8Jv5ZiMcY2BjyLua0ZA%3D%3D&trk=public_jobs_jserp-result_search-card',\n",
       " 'https://de.linkedin.com/jobs/view/duales-studium-gesundheitsmanagement-b-a-am-campus-oder-virtuell-at-iu-international-university-of-applied-sciences-3802368740?position=3&pageNum=10&refId=fCdNhg9Xp0qHQc62w0nIsg%3D%3D&trackingId=mRw2lDl2HsPi8E9GDSpa6A%3D%3D&trk=public_jobs_jserp-result_search-card',\n",
       " 'https://de.linkedin.com/jobs/view/business-analyst-german-c1-m-w-d-at-luxoft-germany-3844026664?position=4&pageNum=10&refId=fCdNhg9Xp0qHQc62w0nIsg%3D%3D&trackingId=x9cwMV0%2FIuQo1PPItuKFkQ%3D%3D&trk=public_jobs_jserp-result_search-card',\n",
       " 'https://de.linkedin.com/jobs/view/duales-studium-m-w-d-b-a-in-der-bwl-immobilienwirtschaft-at-jll-3790348646?position=5&pageNum=10&refId=fCdNhg9Xp0qHQc62w0nIsg%3D%3D&trackingId=ru9XnGIIfRaK8s2CPR7E8Q%3D%3D&trk=public_jobs_jserp-result_search-card',\n",
       " 'https://de.linkedin.com/jobs/view/duales-studium-tourismusmanagement-b-a-am-campus-oder-virtuell-at-iu-international-university-of-applied-sciences-3802366622?position=6&pageNum=10&refId=fCdNhg9Xp0qHQc62w0nIsg%3D%3D&trackingId=V%2BBGAsPqyfNwviPcwHmTOQ%3D%3D&trk=public_jobs_jserp-result_search-card',\n",
       " 'https://de.linkedin.com/jobs/view/duales-studium-bwl-schwerpunkt-industrie-b-a-bereich-regulierungsmanagement-berlin-at-50hertz-transmission-gmbh-3854533403?position=7&pageNum=10&refId=fCdNhg9Xp0qHQc62w0nIsg%3D%3D&trackingId=nL0IKp%2F3fTMGMrixnmL6NA%3D%3D&trk=public_jobs_jserp-result_search-card',\n",
       " 'https://de.linkedin.com/jobs/view/flight-marketing-analyst-bangkok-based-relocation-provided-at-agoda-3851857615?position=8&pageNum=10&refId=fCdNhg9Xp0qHQc62w0nIsg%3D%3D&trackingId=2zoaW683HpvCN08VDD5GAA%3D%3D&trk=public_jobs_jserp-result_search-card',\n",
       " 'https://de.linkedin.com/jobs/view/duales-studium-bwl-schwerpunkt-industrie-b-a-bereich-regulierungsmanagement-berlin-at-50hertz-transmission-gmbh-3854538105?position=9&pageNum=10&refId=fCdNhg9Xp0qHQc62w0nIsg%3D%3D&trackingId=AUvcnYThYecodTemMg4Gyw%3D%3D&trk=public_jobs_jserp-result_search-card',\n",
       " 'https://de.linkedin.com/jobs/view/duales-studium-betriebswirtschaftslehre-bank-b-a-mit-fokus-vertrieb-m-w-d-at-interhyp-gruppe-3746301416?position=10&pageNum=10&refId=fCdNhg9Xp0qHQc62w0nIsg%3D%3D&trackingId=n2GRlcPh%2FLkqxDk7ri6g%2FA%3D%3D&trk=public_jobs_jserp-result_search-card',\n",
       " 'https://de.linkedin.com/jobs/view/praktikum-w-m-d-business-research-analysis-at-kpmg-deutschland-3743896490?position=1&pageNum=12&refId=OdBputrFAsvSdZ1DdOsqRQ%3D%3D&trackingId=MCwLIteEAKiD14OPPqsNug%3D%3D&trk=public_jobs_jserp-result_search-card',\n",
       " 'https://de.linkedin.com/jobs/view/duales-studium-immobilienwirtschaft-b-a-am-campus-oder-virtuell-at-iu-international-university-of-applied-sciences-3802369451?position=2&pageNum=12&refId=OdBputrFAsvSdZ1DdOsqRQ%3D%3D&trackingId=Tzlzu7J7N1Qnt5wFhgR4OA%3D%3D&trk=public_jobs_jserp-result_search-card',\n",
       " 'https://de.linkedin.com/jobs/view/consultant-business-analyst-projektmanager-life-sciences-chemicals-w-m-d-at-capgemini-3616300102?position=3&pageNum=12&refId=OdBputrFAsvSdZ1DdOsqRQ%3D%3D&trackingId=nd%2Bf%2Bu%2F3%2F4564ljLq1MYgg%3D%3D&trk=public_jobs_jserp-result_search-card',\n",
       " 'https://de.linkedin.com/jobs/view/business-analyst-risikomanagement-banking-m-w-d-at-msg-for-banking-ag-3834466363?position=4&pageNum=12&refId=OdBputrFAsvSdZ1DdOsqRQ%3D%3D&trackingId=szOMm0brg5DCynEavhOxDw%3D%3D&trk=public_jobs_jserp-result_search-card',\n",
       " 'https://de.linkedin.com/jobs/view/german-speaking-social-media-analyst-gn-at-grafton-recruitment-3843375251?position=8&pageNum=12&refId=OdBputrFAsvSdZ1DdOsqRQ%3D%3D&trackingId=tILkFu7fW0htGAHAZdNUpw%3D%3D&trk=public_jobs_jserp-result_search-card',\n",
       " 'https://de.linkedin.com/jobs/view/german-speaking-social-media-analyst-gn-at-grafton-recruitment-3797835380?position=10&pageNum=12&refId=OdBputrFAsvSdZ1DdOsqRQ%3D%3D&trackingId=HYkEifrQXsP8uo6g8bDY7Q%3D%3D&trk=public_jobs_jserp-result_search-card',\n",
       " 'https://de.linkedin.com/jobs/view/data-analyst-consumer-marketing-at-lovehoney-group-3879826746?position=1&pageNum=15&refId=eo2hX3ZEnRBiVOnxQ4PhFQ%3D%3D&trackingId=%2B%2FQEvrftWa09bv9YRhc%2Fhg%3D%3D&trk=public_jobs_jserp-result_search-card',\n",
       " 'https://de.linkedin.com/jobs/view/senior-data-analyst-at-pragmatike-3828775138?position=2&pageNum=15&refId=eo2hX3ZEnRBiVOnxQ4PhFQ%3D%3D&trackingId=qU7IrjkETIOwm26C2XlThQ%3D%3D&trk=public_jobs_jserp-result_search-card',\n",
       " 'https://de.linkedin.com/jobs/view/senior-data-analyst-marketing-measurement-at-getyourguide-3804912475?position=3&pageNum=15&refId=eo2hX3ZEnRBiVOnxQ4PhFQ%3D%3D&trackingId=ePttzFinPBq0ed79l9s%2BfQ%3D%3D&trk=public_jobs_jserp-result_search-card',\n",
       " 'https://de.linkedin.com/jobs/view/senior-data-product-analyst-in-performance-marketing-all-genders-at-zalando-3787195908?position=4&pageNum=15&refId=eo2hX3ZEnRBiVOnxQ4PhFQ%3D%3D&trackingId=PBpU6E%2F%2BMq9YQNT%2Bw1jb2w%3D%3D&trk=public_jobs_jserp-result_search-card',\n",
       " 'https://de.linkedin.com/jobs/view/commercial-data-analyst-im-bereich-pharma-m-w-d-at-dr-kade-health-care-3842100570?position=5&pageNum=15&refId=eo2hX3ZEnRBiVOnxQ4PhFQ%3D%3D&trackingId=qv7sV3ukjaxFXyMb8%2FRwZw%3D%3D&trk=public_jobs_jserp-result_search-card',\n",
       " 'https://de.linkedin.com/jobs/view/business-intelligence-manager-data-analyst-m-w-d-at-legalhero-3839044057?position=6&pageNum=15&refId=eo2hX3ZEnRBiVOnxQ4PhFQ%3D%3D&trackingId=hovgPzWYIRGnc9gR7TL61g%3D%3D&trk=public_jobs_jserp-result_search-card',\n",
       " 'https://de.linkedin.com/jobs/view/senior-data-analyst-online-marketing-m-w-d-at-denkwerk-gmbh-3835585043?position=7&pageNum=15&refId=eo2hX3ZEnRBiVOnxQ4PhFQ%3D%3D&trackingId=XWG0ydeaMstJY5WNvYZNag%3D%3D&trk=public_jobs_jserp-result_search-card',\n",
       " 'https://de.linkedin.com/jobs/view/growth-analyst-m-w-d-at-bling-3873540501?position=8&pageNum=15&refId=eo2hX3ZEnRBiVOnxQ4PhFQ%3D%3D&trackingId=0MLc8h9u6jVifLwPnKdqyQ%3D%3D&trk=public_jobs_jserp-result_search-card',\n",
       " 'https://de.linkedin.com/jobs/view/business-analyst-it-m-w-d-at-kenfo-fonds-zur-finanzierung-der-kerntechnischen-entsorgung-3853706303?position=9&pageNum=15&refId=eo2hX3ZEnRBiVOnxQ4PhFQ%3D%3D&trackingId=rYBXTKvt80YTpgODP4WsrQ%3D%3D&trk=public_jobs_jserp-result_search-card',\n",
       " 'https://de.linkedin.com/jobs/view/growth-expansion-analyst-w-m-d-at-enpal-3776939682?position=10&pageNum=15&refId=eo2hX3ZEnRBiVOnxQ4PhFQ%3D%3D&trackingId=uaQozTPC6kQggPUzetSrdw%3D%3D&trk=public_jobs_jserp-result_search-card']"
      ]
     },
     "execution_count": 20,
     "metadata": {},
     "output_type": "execute_result"
    }
   ],
   "source": [
    "hrefList"
   ]
  },
  {
   "cell_type": "code",
   "execution_count": 21,
   "id": "005135d8",
   "metadata": {},
   "outputs": [],
   "source": [
    "linklist=pd.DataFrame(hrefList,columns=[\"joblinks\"])"
   ]
  },
  {
   "cell_type": "code",
   "execution_count": 22,
   "id": "cba9c18a",
   "metadata": {},
   "outputs": [],
   "source": [
    "linklist.to_csv('linkedinlinks.csv')\n"
   ]
  },
  {
   "cell_type": "code",
   "execution_count": 23,
   "id": "305dc16c",
   "metadata": {},
   "outputs": [],
   "source": [
    "#Close the driver\n",
    "\n",
    "driver.close()"
   ]
  },
  {
   "cell_type": "code",
   "execution_count": null,
   "id": "7013733b",
   "metadata": {},
   "outputs": [],
   "source": []
  },
  {
   "cell_type": "code",
   "execution_count": null,
   "id": "5a5a4c8a",
   "metadata": {},
   "outputs": [],
   "source": []
  }
 ],
 "metadata": {
  "kernelspec": {
   "display_name": "Python 3 (ipykernel)",
   "language": "python",
   "name": "python3"
  },
  "language_info": {
   "codemirror_mode": {
    "name": "ipython",
    "version": 3
   },
   "file_extension": ".py",
   "mimetype": "text/x-python",
   "name": "python",
   "nbconvert_exporter": "python",
   "pygments_lexer": "ipython3",
   "version": "3.11.4"
  }
 },
 "nbformat": 4,
 "nbformat_minor": 5
}
